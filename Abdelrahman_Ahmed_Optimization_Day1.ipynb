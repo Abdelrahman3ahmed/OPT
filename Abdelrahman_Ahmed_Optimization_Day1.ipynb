{
 "cells": [
  {
   "cell_type": "markdown",
   "metadata": {},
   "source": [
    "Quiz:\n",
    "    Q1) A\n",
    "    \n",
    "    Q2) B\n",
    "    \n",
    "    Q3) True Becouse it represent the dot product which considered in loss function \n",
    "    \n",
    "    Q4) A\n",
    "    \n",
    "    Q5) False Because It make us sure of getting the gradient decresing in the rigth direction"
   ]
  },
  {
   "cell_type": "markdown",
   "metadata": {},
   "source": [
    "Implementaion"
   ]
  },
  {
   "cell_type": "code",
   "execution_count": 1,
   "metadata": {},
   "outputs": [
    {
     "name": "stdout",
     "output_type": "stream",
     "text": [
      "[0.43360919 0.43360919]\n"
     ]
    }
   ],
   "source": [
    "import numpy as np\n",
    "x_points = np.array([1,1,2,3,4,5,6,7,8,9,10,11])\n",
    "y_points = np.array([1,2,3,1,4,5,6,4,7,10,15,9])\n",
    "feture = np.concatenate((np.ones(len(x_points)).reshape( len(x_points), 1) \n",
    "                         , x_points.reshape(len(x_points) , 1))  , axis = 1)\n",
    "#print(feture)\n",
    "theta = np.array([0 , 0 ])\n",
    "\n",
    "Y= np.dot(theta ,feture.T)\n",
    "# print(Y)\n",
    "alpha = 0.001\n",
    "Epoch = len(x_points)\n",
    "\n",
    "for i in range(Epoch):\n",
    "    Y= np.dot(theta ,feture.T)\n",
    "#     print(Y)\n",
    "    theta = theta - alpha*(np.sum(np.dot( (Y-y_points) , feture) ,axis = 0)/Epoch)\n",
    "#     thet0 = theta0 - //\n",
    "#     thet1 = theta1 - //\n",
    "# for j in range(10000):\n",
    "#     for i in range(Epoch):\n",
    "#         Y= np.dot(theta ,feture.T)\n",
    "#         theta = theta - alpha*(np.sum(np.dot( (Y-y_points) , feture) ,axis = 0)/Epoch)\n",
    "\n",
    "print(theta)"
   ]
  },
  {
   "cell_type": "code",
   "execution_count": 2,
   "metadata": {},
   "outputs": [
    {
     "data": {
      "image/png": "[encoded data removed]",
      "text/plain": [
       "<Figure size 432x288 with 1 Axes>"
      ]
     },
     "metadata": {
      "needs_background": "light"
     },
     "output_type": "display_data"
    }
   ],
   "source": [
    "import matplotlib.pyplot as plt\n",
    "\n",
    "plt.scatter(x_points , y_points)\n",
    "plt.plot(x_points, theta[0]+ x_points * theta[1]) \n",
    "plt.show()"
   ]
  },
  {
   "cell_type": "code",
   "execution_count": 3,
   "metadata": {},
   "outputs": [
    {
     "name": "stdout",
     "output_type": "stream",
     "text": [
      "[0.88667688 0.88667688]\n"
     ]
    }
   ],
   "source": [
    "for j in range(50):\n",
    "    for i in range(Epoch):\n",
    "        Y= np.dot(theta ,feture.T)\n",
    "        theta = theta - alpha*(np.sum(np.dot( (Y-y_points) , feture) ,axis = 0)/Epoch)\n",
    "        \n",
    "print(theta)        "
   ]
  },
  {
   "cell_type": "code",
   "execution_count": 14,
   "metadata": {},
   "outputs": [
    {
     "data": {
      "image/png": "[encoded data removed]",
      "text/plain": [
       "<Figure size 432x288 with 1 Axes>"
      ]
     },
     "metadata": {
      "needs_background": "light"
     },
     "output_type": "display_data"
    }
   ],
   "source": [
    "import matplotlib.pyplot as plt\n",
    "\n",
    "plt.scatter(x_points , y_points)\n",
    "plt.plot(x_points, theta[0]+ x_points * theta[1]) \n",
    "plt.show()"
   ]
  },
  {
   "cell_type": "code",
   "execution_count": null,
   "metadata": {},
   "outputs": [],
   "source": []
  }
 ],
 "metadata": {
  "kernelspec": {
   "display_name": "Python 3",
   "language": "python",
   "name": "python3"
  },
  "language_info": {
   "codemirror_mode": {
    "name": "ipython",
    "version": 3
   },
   "file_extension": ".py",
   "mimetype": "text/x-python",
   "name": "python",
   "nbconvert_exporter": "python",
   "pygments_lexer": "ipython3",
   "version": "3.8.5"
  }
 },
 "nbformat": 4,
 "nbformat_minor": 4
}
